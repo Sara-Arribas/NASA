{
 "cells": [
  {
   "cell_type": "markdown",
   "id": "241f688a",
   "metadata": {},
   "source": [
    "# Web Server logs Analysis\n",
    "\n",
    "De forma general, un server log es un archivo de log generado por el servidor con una\n",
    "lista de las actividades que se ejecutan. En este caso tenemos un web server log el cuál\n",
    "mantiene un historial de las peticiones realizadas a la página. Este tipo de server logs\n",
    "tienen un formato standard (Common Log Format). Y es una práctica general, el\n",
    "analizar estos logs para sacar distintas conclusiones, localizar ataques, errores\n",
    "comunes, etc.\n",
    "En nuestro caso tenemos el dataset de los web server logs de la NASA. Qué están\n",
    "compuestos por este tipo de registros:\n",
    "\n",
    "133.43.96.45 - - [01/Aug/1995:00:00:23 -0400] \"GET /images/launch-logo.gif HTTP/1.0\" 200 1713\n",
    "\n",
    "Por lo que tenemos los siguientes campos:\n",
    "\n",
    "1. **Host**: 133.43.96.45\n",
    "2. **User-identifier**: en este dataset, todos estos campos estarán con un “-“ que significa que faltan esos datos, por lo que obviaremos este campo.\n",
    "3. **Userid**: al igual que el anterior campo, también será obviado.\n",
    "4. **Date**: 01/Aug/1995:00:00:23 -0400, como podemos ver está en formato dd/MMM/yyyy:HH:mm:ss y el campo final “-0400” sería el timezone que en este caso omitiremos, además haremos una transformación de los meses a forma numérica.\n",
    "5. **Request Method**: GET, existen distintos métodos de petición aquí puedes obtener más información: link\n",
    "6. **Resource**: /images/launch-logo.gif, sería el recurso al que se accede en esta petición.\n",
    "7. **Protocol**: HTTP/1.0, y por ultimo en esta parte entre comillas tendríamos el protocolo utilizado al ser logs de 1995, seguramente sea el único protocolo utilizado.\n",
    "8. **HTTP status code**: 200, existen distintos códigos de estado de HTTP en el link a continuación tienes más información: link\n",
    "9. **Size**: 1713, y como ultimo campo tendríamos el tamaño del objeto recibido por el cliente en bytes. En casos de error del cliente, este campo no se encuentra por lo que al igual que en los userid, será indicado con un “-“, tenerlo en cuenta.\n",
    "\n",
    "Ahora que ya entendemos que se encuentra dentro de nuestro web server log, vamos a pasar\n",
    "a analizarlo. Primero debemos cargar el archivo como un archivo de texto normal y realizar las\n",
    "transformaciones pertinentes, a la hora de limpiar y estructurar nuestro dataset utilizaremos\n",
    "expresiones regulares para recoger los campos que necesitamos.\n",
    "Guardaremos nuestro nuevo DataFrame ya estructurado en formato parquet. Y de este\n",
    "leeremos para realizar nuestro análisis.\n",
    "\n",
    "Consultas a realizar:\n",
    "- ¿Cuáles son los distintos protocolos web utilizados? Agrúpalos.\n",
    "- ¿Cuáles son los códigos de estado más comunes en la web? Agrúpalos y ordénalos para ver cuál es el más común.\n",
    "- ¿Y los métodos de petición (verbos) más utilizados?\n",
    "- ¿Qué recurso tuvo la mayor transferencia de bytes de la página web?\n",
    "- Además, queremos saber que recurso de nuestra web es el que más tráfico recibe. Es decir, el recurso con más registros en nuestro log.\n",
    "- ¿Qué días la web recibió más tráfico?\n",
    "- ¿Cuáles son los hosts son los más frecuentes?\n",
    "- ¿A qué horas se produce el mayor número de tráfico en la web?\n",
    "- ¿Cuál es el número de errores 404 que ha habido cada día?\n"
   ]
  },
  {
   "cell_type": "markdown",
   "id": "d6145d72",
   "metadata": {},
   "source": [
    "### Inicio de la SparkSession"
   ]
  },
  {
   "cell_type": "code",
   "execution_count": 1,
   "id": "edaf1922",
   "metadata": {},
   "outputs": [
    {
     "data": {
      "text/plain": [
       "Intitializing Scala interpreter ..."
      ]
     },
     "metadata": {},
     "output_type": "display_data"
    },
    {
     "data": {
      "text/plain": [
       "Spark Web UI available at http://L2111011.bosonit.local:4040\n",
       "SparkContext available as 'sc' (version = 3.1.2, master = local[*], app id = local-1643622693861)\n",
       "SparkSession available as 'spark'\n"
      ]
     },
     "metadata": {},
     "output_type": "display_data"
    },
    {
     "data": {
      "text/plain": [
       "import org.apache.spark.sql.SparkSession\r\n",
       "spark: org.apache.spark.sql.SparkSession = org.apache.spark.sql.SparkSession@3c08904f\r\n"
      ]
     },
     "execution_count": 1,
     "metadata": {},
     "output_type": "execute_result"
    }
   ],
   "source": [
    "import org.apache.spark.sql.SparkSession\n",
    "\n",
    "val spark = SparkSession.builder()\n",
    "                        .appName(\"Nasa\")\n",
    "                        .master(\"local\")\n",
    "                        .getOrCreate()"
   ]
  },
  {
   "cell_type": "markdown",
   "id": "82fb3e25",
   "metadata": {},
   "source": [
    "### Carga del csv"
   ]
  },
  {
   "cell_type": "code",
   "execution_count": 4,
   "id": "6cb79a12",
   "metadata": {},
   "outputs": [
    {
     "data": {
      "text/plain": [
       "directorio: String = C:/Users/sara.arribas/Documents/Big Data/NASA/access_log_*\r\n",
       "nasaDF: org.apache.spark.sql.DataFrame = [value: string]\r\n"
      ]
     },
     "execution_count": 4,
     "metadata": {},
     "output_type": "execute_result"
    }
   ],
   "source": [
    "// Cuando ponemos el asterisco al final de access_log conseguimos cargar los dos documentos (Jul y Aug) sin hacer un union\n",
    "\n",
    "val directorio = \"C:/Users/sara.arribas/Documents/Big Data/NASA/access_log_*\"\n",
    "\n",
    "val nasaDF = spark.read.format(\"text\")\n",
    "                            .load(directorio)"
   ]
  },
  {
   "cell_type": "code",
   "execution_count": 17,
   "id": "b7ed98f5",
   "metadata": {},
   "outputs": [
    {
     "name": "stdout",
     "output_type": "stream",
     "text": [
      "+--------------------------------------------------------------------------------------------------------------------------+\n",
      "|value                                                                                                                     |\n",
      "+--------------------------------------------------------------------------------------------------------------------------+\n",
      "|in24.inetnebr.com - - [01/Aug/1995:00:00:01 -0400] \"GET /shuttle/missions/sts-68/news/sts-68-mcc-05.txt HTTP/1.0\" 200 1839|\n",
      "|uplherc.upl.com - - [01/Aug/1995:00:00:07 -0400] \"GET / HTTP/1.0\" 304 0                                                   |\n",
      "|uplherc.upl.com - - [01/Aug/1995:00:00:08 -0400] \"GET /images/ksclogo-medium.gif HTTP/1.0\" 304 0                          |\n",
      "|uplherc.upl.com - - [01/Aug/1995:00:00:08 -0400] \"GET /images/MOSAIC-logosmall.gif HTTP/1.0\" 304 0                        |\n",
      "|uplherc.upl.com - - [01/Aug/1995:00:00:08 -0400] \"GET /images/USA-logosmall.gif HTTP/1.0\" 304 0                           |\n",
      "+--------------------------------------------------------------------------------------------------------------------------+\n",
      "only showing top 5 rows\n",
      "\n",
      "3461613"
     ]
    }
   ],
   "source": [
    "\n",
    "\n",
    "nasaDF.show(5, false)\n",
    "print(nasaDF.count())"
   ]
  },
  {
   "cell_type": "code",
   "execution_count": null,
   "id": "46de3e28",
   "metadata": {},
   "outputs": [],
   "source": [
    "Vamos a borrar todas las filas que no tengan Protocolo"
   ]
  },
  {
   "cell_type": "markdown",
   "id": "f1030904",
   "metadata": {},
   "source": [
    "### Aplicando Regex para limpiar el formato"
   ]
  },
  {
   "cell_type": "code",
   "execution_count": 203,
   "id": "4eab82e2",
   "metadata": {},
   "outputs": [
    {
     "name": "stdout",
     "output_type": "stream",
     "text": [
      "3461613"
     ]
    },
    {
     "data": {
      "text/plain": [
       "import org.apache.spark.sql.functions._\r\n",
       "nasa_pattern: String = ^(.*) - - \\[(\\d\\d\\/\\w{3}\\/\\d{4}:\\d{2}:\\d{2}:\\d{2} -\\d{4})\\] \"(\\S+) (\\S+) *(\\S*)\" (\\d*) (\\d+|-|\\s)$\r\n",
       "nasa_parsedDF: org.apache.spark.sql.DataFrame = [Host: string, Date: string ... 5 more fields]\r\n"
      ]
     },
     "execution_count": 203,
     "metadata": {},
     "output_type": "execute_result"
    }
   ],
   "source": [
    "import org.apache.spark.sql.functions._\n",
    "val nasa_pattern = \"\"\"^(.*) - - \\[(\\d\\d\\/\\w{3}\\/\\d{4}:\\d{2}:\\d{2}:\\d{2} -\\d{4})\\] \"(\\S+) (\\S+) *(\\S*)\" (\\d*) (\\d+|-|\\s)$\"\"\"\n",
    "\n",
    "val nasa_parsedDF = nasaDF.select(regexp_extract($\"value\", exp = nasa_pattern, groupIdx = 1).alias(\"Host\"),\n",
    "                                  regexp_extract($\"value\", exp = nasa_pattern, groupIdx = 2).alias(\"Date\"),\n",
    "                                  regexp_extract($\"value\", exp = nasa_pattern, groupIdx = 3).alias(\"Request_Method\"),\n",
    "                                  regexp_extract($\"value\", exp = nasa_pattern, groupIdx = 4).alias(\"Resource\"),\n",
    "                                  regexp_extract($\"value\", exp = nasa_pattern, groupIdx = 5).alias(\"Protocol\"),\n",
    "                                  regexp_extract($\"value\", exp = nasa_pattern, groupIdx = 6).alias(\"HTTP_status_code\"),\n",
    "                                  regexp_extract($\"value\", exp = nasa_pattern, groupIdx = 7).alias(\"Size\"))\n",
    "//val nasa_noNulls = nasa_parsedDF.na.fill(0,\"Size\")\n",
    "//nasa_parsedDF.show(10, false)\n",
    "print(nasa_parsedDF.count())\n",
    "\n"
   ]
  },
  {
   "cell_type": "code",
   "execution_count": 204,
   "id": "b35dd2d9",
   "metadata": {},
   "outputs": [
    {
     "data": {
      "text/plain": [
       "nasa_SizeDF: org.apache.spark.sql.DataFrame = [Host: string, Date: string ... 5 more fields]\r\n"
      ]
     },
     "execution_count": 204,
     "metadata": {},
     "output_type": "execute_result"
    }
   ],
   "source": [
    "val nasa_SizeDF = nasa_parsedDF.withColumn(\"Size\", when($\"Size\"===\"\"||$\"Size\"===\"-\",0).otherwise($\"Size\"))"
   ]
  },
  {
   "cell_type": "code",
   "execution_count": 169,
   "id": "d496cef4",
   "metadata": {},
   "outputs": [
    {
     "data": {
      "text/plain": [
       "res146: Long = 6601\r\n"
      ]
     },
     "execution_count": 169,
     "metadata": {},
     "output_type": "execute_result"
    }
   ],
   "source": [
    "nasa_SizeDF.where($\"Protocol\"===\"\").count()"
   ]
  },
  {
   "cell_type": "markdown",
   "id": "160549bb",
   "metadata": {},
   "source": [
    "### Guardo el archivo en parquet"
   ]
  },
  {
   "cell_type": "code",
   "execution_count": 205,
   "id": "12e8b43d",
   "metadata": {},
   "outputs": [
    {
     "data": {
      "text/plain": [
       "parquetPath: String = /tmp/data/parquet/parquet_nasa\r\n"
      ]
     },
     "execution_count": 205,
     "metadata": {},
     "output_type": "execute_result"
    }
   ],
   "source": [
    "val parquetPath = \"/tmp/data/parquet/parquet_nasa\"\n",
    "nasa_parsedDF.write.format(\"parquet\").save(parquetPath)"
   ]
  },
  {
   "cell_type": "markdown",
   "id": "509c20ad",
   "metadata": {},
   "source": [
    "### ¿Cuáles son los distintos protocolos web utilizados? Agrúpalos."
   ]
  },
  {
   "cell_type": "markdown",
   "id": "2e0d2beb",
   "metadata": {},
   "source": [
    "Borramos las filas con protocolo vacío"
   ]
  },
  {
   "cell_type": "code",
   "execution_count": 170,
   "id": "7af85623",
   "metadata": {},
   "outputs": [
    {
     "name": "stdout",
     "output_type": "stream",
     "text": [
      "+-------------+-------+\n",
      "|Protocol     |count  |\n",
      "+-------------+-------+\n",
      "|HTTP/*       |13     |\n",
      "|a            |1      |\n",
      "|             |6601   |\n",
      "|HTTP/V1.0    |279    |\n",
      "|HTTP/1.0     |3454715|\n",
      "|STS-69</a><p>|4      |\n",
      "+-------------+-------+\n",
      "\r\n"
     ]
    }
   ],
   "source": [
    "nasa_SizeDF.groupBy($\"Protocol\").count().show(false)"
   ]
  },
  {
   "cell_type": "code",
   "execution_count": 171,
   "id": "691f8b9a",
   "metadata": {},
   "outputs": [
    {
     "name": "stdout",
     "output_type": "stream",
     "text": [
      "+--------------+--------------------------+--------------+---------------------------------------------+-------------+----------------+----+\n",
      "|Host          |Date                      |Request Method|Resource                                     |Protocol     |HTTP status code|Size|\n",
      "+--------------+--------------------------+--------------+---------------------------------------------+-------------+----------------+----+\n",
      "|hertz.njit.edu|10/Jul/1995:23:34:41 -0400|GET           |/shuttle/missions/sts-69/mission-sts-69.html>|STS-69</a><p>|404             |0   |\n",
      "|139.169.52.155|12/Jul/1995:14:32:30 -0400|GET           |/shuttle/missions/sts-69/mission-sts-69.html>|STS-69</a><p>|404             |0   |\n",
      "|auriga.ta3.sk |27/Jul/1995:04:50:09 -0400|GET           |/shuttle/missions/sts-69/mission-sts-69.html>|STS-69</a><p>|404             |0   |\n",
      "|auriga.ta3.sk |27/Jul/1995:04:50:11 -0400|GET           |/shuttle/missions/sts-69/mission-sts-69.html>|STS-69</a><p>|404             |0   |\n",
      "+--------------+--------------------------+--------------+---------------------------------------------+-------------+----------------+----+\n",
      "\r\n"
     ]
    }
   ],
   "source": [
    "nasa_SizeDF.select(\"*\").where($\"Protocol\"===\"STS-69</a><p>\").show(false)"
   ]
  },
  {
   "cell_type": "markdown",
   "id": "cf45975f",
   "metadata": {},
   "source": [
    "### ¿Cuáles son los códigos de estado más comunes en la web? Agrúpalos y ordénalos para ver cuál es el más común."
   ]
  },
  {
   "cell_type": "code",
   "execution_count": 180,
   "id": "3f75d554",
   "metadata": {},
   "outputs": [
    {
     "name": "stdout",
     "output_type": "stream",
     "text": [
      "+----------------+-------+\n",
      "|HTTP status code|count  |\n",
      "+----------------+-------+\n",
      "|501             |41     |\n",
      "|500             |65     |\n",
      "|403             |225    |\n",
      "|                |1760   |\n",
      "|404             |20802  |\n",
      "|302             |73006  |\n",
      "|304             |266764 |\n",
      "|200             |3098950|\n",
      "+----------------+-------+\n",
      "\r\n"
     ]
    }
   ],
   "source": [
    "nasa_SizeDF.groupBy($\"HTTP status code\").count().orderBy($\"count\").show(false)"
   ]
  },
  {
   "cell_type": "markdown",
   "id": "ddf0bd49",
   "metadata": {},
   "source": [
    "### Y los métodos de petición (verbos) más utilizados?"
   ]
  },
  {
   "cell_type": "code",
   "execution_count": 179,
   "id": "f3eb2e65",
   "metadata": {},
   "outputs": [
    {
     "name": "stdout",
     "output_type": "stream",
     "text": [
      "+--------------+-------+\n",
      "|Request Method|count  |\n",
      "+--------------+-------+\n",
      "|POST          |222    |\n",
      "|              |1760   |\n",
      "|HEAD          |7915   |\n",
      "|GET           |3451716|\n",
      "+--------------+-------+\n",
      "\r\n"
     ]
    }
   ],
   "source": [
    "nasa_SizeDF.groupBy($\"Request Method\").count().orderBy($\"count\").show(false)"
   ]
  },
  {
   "cell_type": "markdown",
   "id": "58340156",
   "metadata": {},
   "source": [
    "### ¿Qué recurso tuvo la mayor transferencia de bytes de la página web?\n"
   ]
  },
  {
   "cell_type": "code",
   "execution_count": 196,
   "id": "aedb825f",
   "metadata": {},
   "outputs": [
    {
     "name": "stdout",
     "output_type": "stream",
     "text": [
      "+------------------------------------------------------------+-------------+\n",
      "|Resource                                                    |Size         |\n",
      "+------------------------------------------------------------+-------------+\n",
      "|/shuttle/missions/sts-71/movies/sts-71-launch.mpg           |3.195286412E9|\n",
      "|/shuttle/missions/sts-71/movies/sts-71-mir-dock.mpg         |1.409035595E9|\n",
      "|/shuttle/missions/sts-71/movies/sts-71-tcdt-crew-walkout.mpg|1.137114616E9|\n",
      "|/shuttle/missions/sts-70/movies/sts-70-launch.mpg           |1.098853893E9|\n",
      "|/shuttle/technology/sts-newsref/stsref-toc.html             |1.061238918E9|\n",
      "+------------------------------------------------------------+-------------+\n",
      "only showing top 5 rows\n",
      "\r\n"
     ]
    },
    {
     "data": {
      "text/plain": [
       "import org.apache.spark.sql.functions._\r\n"
      ]
     },
     "execution_count": 196,
     "metadata": {},
     "output_type": "execute_result"
    }
   ],
   "source": [
    "import org.apache.spark.sql.functions._\n",
    "nasa_SizeDF.groupBy($\"Resource\").agg(sum($\"Size\").alias(\"Size\")).orderBy(desc(\"Size\")).show(5,false)"
   ]
  },
  {
   "cell_type": "markdown",
   "id": "55346f5c",
   "metadata": {},
   "source": [
    "### Además, queremos saber que recurso de nuestra web es el que más tráfico recibe. Es decir, el recurso con más registros en nuestro log."
   ]
  },
  {
   "cell_type": "code",
   "execution_count": 197,
   "id": "eec0d341",
   "metadata": {},
   "outputs": [
    {
     "name": "stdout",
     "output_type": "stream",
     "text": [
      "+----------------------------+------+\n",
      "|Resource                    |count |\n",
      "+----------------------------+------+\n",
      "|/images/NASA-logosmall.gif  |208714|\n",
      "|/images/KSC-logosmall.gif   |164970|\n",
      "|/images/MOSAIC-logosmall.gif|127908|\n",
      "|/images/USA-logosmall.gif   |127074|\n",
      "|/images/WORLD-logosmall.gif |125925|\n",
      "+----------------------------+------+\n",
      "only showing top 5 rows\n",
      "\r\n"
     ]
    }
   ],
   "source": [
    "nasa_SizeDF.groupBy($\"Resource\").count().orderBy(desc(\"count\")).show(5,false)"
   ]
  },
  {
   "cell_type": "markdown",
   "id": "db975878",
   "metadata": {},
   "source": [
    "### ¿Qué días la web recibió más tráfico?\n"
   ]
  },
  {
   "cell_type": "code",
   "execution_count": 223,
   "id": "643a67e8",
   "metadata": {},
   "outputs": [
    {
     "name": "stdout",
     "output_type": "stream",
     "text": [
      "+-----------+------+\n",
      "|       Dias| count|\n",
      "+-----------+------+\n",
      "|13/Jul/1995|133952|\n",
      "|06/Jul/1995|100956|\n",
      "|05/Jul/1995| 94572|\n",
      "|12/Jul/1995| 92230|\n",
      "|31/Aug/1995| 89825|\n",
      "+-----------+------+\n",
      "only showing top 5 rows\n",
      "\r\n"
     ]
    },
    {
     "data": {
      "text/plain": [
       "nasa_DiasDF: org.apache.spark.sql.DataFrame = [Host: string, Date: string ... 6 more fields]\r\n"
      ]
     },
     "execution_count": 223,
     "metadata": {},
     "output_type": "execute_result"
    }
   ],
   "source": [
    "val nasa_DiasDF = nasa_SizeDF.withColumn(\"Dias\",substring(col(\"date\"), 1, 11))\n",
    "nasa_DiasDF.groupBy(\"Dias\").agg(count(\"Dias\").alias(\"count\")).orderBy(desc(\"count\")).show(5)"
   ]
  },
  {
   "cell_type": "markdown",
   "id": "3454b245",
   "metadata": {},
   "source": [
    "### ¿Cuáles son los hosts son los más frecuentes?\n"
   ]
  },
  {
   "cell_type": "code",
   "execution_count": 215,
   "id": "80e09c72",
   "metadata": {},
   "outputs": [
    {
     "name": "stdout",
     "output_type": "stream",
     "text": [
      "+--------------------+-----+\n",
      "|Host                |count|\n",
      "+--------------------+-----+\n",
      "|piweba3y.prodigy.com|21988|\n",
      "|piweba4y.prodigy.com|16437|\n",
      "|piweba1y.prodigy.com|12825|\n",
      "|edams.ksc.nasa.gov  |11964|\n",
      "|163.206.89.4        |9697 |\n",
      "+--------------------+-----+\n",
      "only showing top 5 rows\n",
      "\r\n"
     ]
    }
   ],
   "source": [
    "nasa_SizeDF.groupBy($\"Host\").count().orderBy(desc(\"count\")).show(5,false)"
   ]
  },
  {
   "cell_type": "markdown",
   "id": "41e6271a",
   "metadata": {},
   "source": [
    "### ¿A qué horas se produce el mayor número de tráfico en la web?\n"
   ]
  },
  {
   "cell_type": "code",
   "execution_count": 222,
   "id": "c69a6770",
   "metadata": {},
   "outputs": [
    {
     "name": "stdout",
     "output_type": "stream",
     "text": [
      "+----+------+\n",
      "|Hora| count|\n",
      "+----+------+\n",
      "|  15|230585|\n",
      "|  12|227207|\n",
      "|  13|225294|\n",
      "|  14|223771|\n",
      "|  16|217488|\n",
      "|  11|211000|\n",
      "|  10|193699|\n",
      "|  09|178587|\n",
      "|  17|178366|\n",
      "|  08|149121|\n",
      "|  18|146002|\n",
      "|  22|131334|\n",
      "|  19|131013|\n",
      "|  21|129826|\n",
      "|  20|129658|\n",
      "|  23|123845|\n",
      "|  00|110205|\n",
      "|  07|101330|\n",
      "|  01| 91542|\n",
      "|  02| 77789|\n",
      "|  03| 67346|\n",
      "|  06| 66480|\n",
      "|  05| 59441|\n",
      "|  04| 58924|\n",
      "+----+------+\n",
      "only showing top 24 rows\n",
      "\r\n"
     ]
    },
    {
     "data": {
      "text/plain": [
       "nasa_HorasDF: org.apache.spark.sql.DataFrame = [Host: string, Date: string ... 6 more fields]\r\n"
      ]
     },
     "execution_count": 222,
     "metadata": {},
     "output_type": "execute_result"
    }
   ],
   "source": [
    "val nasa_HorasDF = nasa_SizeDF.withColumn(\"Hora\",substring(col(\"Date\"), 13, 2))\n",
    "nasa_HorasDF.groupBy(\"Hora\").agg(count(\"Hora\").alias(\"count\")).orderBy(desc(\"count\")).show(24)"
   ]
  },
  {
   "cell_type": "markdown",
   "id": "f2020a7c",
   "metadata": {},
   "source": [
    "### ¿Cuál es el número de errores 404 que ha habido cada día?"
   ]
  },
  {
   "cell_type": "code",
   "execution_count": 224,
   "id": "19a5ba3c",
   "metadata": {},
   "outputs": [
    {
     "name": "stdout",
     "output_type": "stream",
     "text": [
      "+-----------+-----+\n",
      "|Dias       |count|\n",
      "+-----------+-----+\n",
      "|19/Jul/1995|639  |\n",
      "|06/Jul/1995|636  |\n",
      "|30/Aug/1995|567  |\n",
      "|07/Jul/1995|565  |\n",
      "|07/Aug/1995|532  |\n",
      "+-----------+-----+\n",
      "only showing top 5 rows\n",
      "\r\n"
     ]
    }
   ],
   "source": [
    "nasa_DiasDF.where($\"HTTP_status_code\"===\"404\").groupBy($\"Dias\").count().orderBy(desc(\"count\")).show(5,false)"
   ]
  },
  {
   "cell_type": "code",
   "execution_count": null,
   "id": "f35d5fe1",
   "metadata": {},
   "outputs": [],
   "source": []
  }
 ],
 "metadata": {
  "kernelspec": {
   "display_name": "spylon-kernel",
   "language": "scala",
   "name": "spylon-kernel"
  },
  "language_info": {
   "codemirror_mode": "text/x-scala",
   "file_extension": ".scala",
   "help_links": [
    {
     "text": "MetaKernel Magics",
     "url": "https://metakernel.readthedocs.io/en/latest/source/README.html"
    }
   ],
   "mimetype": "text/x-scala",
   "name": "scala",
   "pygments_lexer": "scala",
   "version": "0.4.1"
  }
 },
 "nbformat": 4,
 "nbformat_minor": 5
}
